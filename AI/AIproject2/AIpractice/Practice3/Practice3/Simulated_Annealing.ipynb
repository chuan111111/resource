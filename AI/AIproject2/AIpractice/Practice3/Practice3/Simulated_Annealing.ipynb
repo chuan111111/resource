{
 "cells": [
  {
   "cell_type": "code",
   "execution_count": 2,
   "metadata": {},
   "outputs": [],
   "source": [
    "import numpy as np\n",
    "import time"
   ]
  },
  {
   "cell_type": "markdown",
   "metadata": {},
   "source": [
    "# Simulated Annealing（1 point）\n",
    "\n",
    "Solve the Sudoku problem with Simulated Annealing. You can design your own algorithm or simply refer to [Metaheuristics_can_solve_Sudoku_puzzles](https://www.researchgate.net/publication/220403361_Metaheuristics_can_solve_Sudoku_puzzles). \n",
    "\n",
    "\n",
    "### DDL: 22:00, Oct.20\n",
    "The practice will be checked in this lab class or the next lab class(before **Oct.20**) by teachers or SAs. \n",
    "#### What will be tested: \n",
    "* That you understand every line of your code, not just copy from somewhere \n",
    "* That your program compiles correctly\n",
    "* Correctness of the program logic \n",
    "* That the result is obtained in a reasonable time \n",
    "\n",
    "#### Grading: \n",
    "* Submissions in this lab class: 1.1 points.\n",
    "* Submissions on time: 1 point.\n",
    "* Late submissions within 2 weeks after the deadline (Oct.20) : 0.8 points.\n",
    "\n",
    "\n",
    "The code provided below starts with making a problem instance and ends by visualizing the running process of SA."
   ]
  },
  {
   "cell_type": "code",
   "execution_count": 3,
   "metadata": {},
   "outputs": [
    {
     "name": "stdout",
     "output_type": "stream",
     "text": [
      "5.55 ms ± 192 µs per loop (mean ± std. dev. of 7 runs, 100 loops each)\n",
      "178 µs ± 2.33 µs per loop (mean ± std. dev. of 7 runs, 10000 loops each)\n"
     ]
    },
    {
     "data": {
      "text/plain": [
       "array([[1, 2, 3, 4, 5, 6, 7, 8, 9],\n",
       "       [4, 5, 6, 7, 8, 9, 1, 2, 3],\n",
       "       [7, 8, 9, 1, 2, 3, 4, 5, 6],\n",
       "       [2, 3, 4, 5, 6, 7, 8, 9, 1],\n",
       "       [5, 6, 7, 8, 9, 1, 2, 3, 4],\n",
       "       [8, 9, 1, 2, 3, 4, 5, 6, 7],\n",
       "       [3, 4, 5, 6, 7, 8, 9, 1, 2],\n",
       "       [6, 7, 8, 9, 1, 2, 3, 4, 5],\n",
       "       [9, 1, 2, 3, 4, 5, 6, 7, 8]])"
      ]
     },
     "execution_count": 3,
     "metadata": {},
     "output_type": "execute_result"
    }
   ],
   "source": [
    "# making a problem instance\n",
    "def make_grid_python(n):\n",
    "    grid = np.empty((n**2, n**2), int)\n",
    "    x = 0\n",
    "    for i in range(n):\n",
    "        for j in range(n):\n",
    "            for k in range(n**2):\n",
    "                grid[n*i+j, k] = x%(n**2) + 1\n",
    "                x += 1\n",
    "            x += n\n",
    "        x += 1\n",
    "    return grid\n",
    "\n",
    "def make_grid_numpy(n):\n",
    "    return np.fromfunction(lambda i, j: (i*n+i//n+j)%(n**2)+1, (n**2, n**2), dtype=int)\n",
    "\n",
    "# a comparison between native python and numpy\n",
    "# vary n to see their performances\n",
    "n = 10\n",
    "%timeit make_grid_python(n)\n",
    "%timeit make_grid_numpy(n)\n",
    "\n",
    "# test\n",
    "grid = make_grid_numpy(3)\n",
    "grid"
   ]
  },
  {
   "cell_type": "code",
   "execution_count": 4,
   "metadata": {},
   "outputs": [
    {
     "ename": "NotImplementedError",
     "evalue": "",
     "output_type": "error",
     "traceback": [
      "\u001b[0;31m---------------------------------------------------------------------------\u001b[0m",
      "\u001b[0;31mNotImplementedError\u001b[0m                       Traceback (most recent call last)",
      "\u001b[0;32m<ipython-input-4-f0fb11ff29f5>\u001b[0m in \u001b[0;36m<module>\u001b[0;34m\u001b[0m\n\u001b[1;32m     47\u001b[0m \u001b[0msudoku\u001b[0m \u001b[0;34m=\u001b[0m \u001b[0mSudoku\u001b[0m\u001b[0;34m.\u001b[0m\u001b[0mcreate\u001b[0m\u001b[0;34m(\u001b[0m\u001b[0;36m3\u001b[0m\u001b[0;34m)\u001b[0m\u001b[0;34m\u001b[0m\u001b[0;34m\u001b[0m\u001b[0m\n\u001b[1;32m     48\u001b[0m \u001b[0msudoku\u001b[0m\u001b[0;34m.\u001b[0m\u001b[0minit_solution\u001b[0m\u001b[0;34m(\u001b[0m\u001b[0;34m)\u001b[0m\u001b[0;34m\u001b[0m\u001b[0;34m\u001b[0m\u001b[0m\n\u001b[0;32m---> 49\u001b[0;31m \u001b[0msudoku\u001b[0m\u001b[0;34m,\u001b[0m \u001b[0msudoku\u001b[0m\u001b[0;34m.\u001b[0m\u001b[0mvalue\u001b[0m\u001b[0;34m(\u001b[0m\u001b[0;34m)\u001b[0m\u001b[0;34m\u001b[0m\u001b[0;34m\u001b[0m\u001b[0m\n\u001b[0m",
      "\u001b[0;32m<ipython-input-4-f0fb11ff29f5>\u001b[0m in \u001b[0;36mvalue\u001b[0;34m(self)\u001b[0m\n\u001b[1;32m     22\u001b[0m         \u001b[0;31m# TODO: evaluate the current state, return a scalar value\u001b[0m\u001b[0;34m\u001b[0m\u001b[0;34m\u001b[0m\u001b[0;34m\u001b[0m\u001b[0m\n\u001b[1;32m     23\u001b[0m \u001b[0;34m\u001b[0m\u001b[0m\n\u001b[0;32m---> 24\u001b[0;31m         \u001b[0;32mraise\u001b[0m \u001b[0mNotImplementedError\u001b[0m\u001b[0;34m(\u001b[0m\u001b[0;34m)\u001b[0m\u001b[0;34m\u001b[0m\u001b[0;34m\u001b[0m\u001b[0m\n\u001b[0m\u001b[1;32m     25\u001b[0m \u001b[0;34m\u001b[0m\u001b[0m\n\u001b[1;32m     26\u001b[0m     \u001b[0;32mdef\u001b[0m \u001b[0mlocal_search\u001b[0m\u001b[0;34m(\u001b[0m\u001b[0mself\u001b[0m\u001b[0;34m)\u001b[0m\u001b[0;34m:\u001b[0m\u001b[0;34m\u001b[0m\u001b[0;34m\u001b[0m\u001b[0m\n",
      "\u001b[0;31mNotImplementedError\u001b[0m: "
     ]
    }
   ],
   "source": [
    "class Sudoku:\n",
    "    @classmethod\n",
    "    def create(cls, n, seed=303):\n",
    "        rng = np.random.default_rng(seed)\n",
    "        init_grid = make_grid_numpy(n)\n",
    "\n",
    "        # randomly mask out some cells to create a problem instance\n",
    "        # cells marked by *1* is given and fixed\n",
    "        mask = rng.integers(0, 2, size=init_grid.shape)\n",
    "        grid = init_grid*mask\n",
    "\n",
    "        return cls(n, mask, grid, seed)\n",
    "\n",
    "    def __init__(self, n, mask, grid, seed) -> None:\n",
    "        self.seed = seed\n",
    "        self.mask = mask\n",
    "        self.grid = grid\n",
    "        self.n = n\n",
    "        self.all = set(range(1, n**2+1))\n",
    "\n",
    "    def value(self):\n",
    "        # TODO: evaluate the current state, return a scalar value. (cost function)\n",
    "        \n",
    "        raise NotImplementedError()\n",
    "    \n",
    "    def local_search(self):\n",
    "        # TODO: apply your neighborhood search operator to get the next state\n",
    "        \n",
    "        return next_state\n",
    "\n",
    "\n",
    "    def init_solution(self):\n",
    "        rng = np.random.default_rng(self.seed)\n",
    "        n = self.n\n",
    "        grid = self.grid.reshape(n, n, n, n).transpose(0, 2, 1, 3)\n",
    "        for I in np.ndindex(n, n):\n",
    "            idx = grid[I]==0\n",
    "            grid[I][idx] = rng.permutation(list(self.all-set(grid[I].flat)))\n",
    "        return self\n",
    "        \n",
    "    def __repr__(self) -> str:\n",
    "        return self.grid.__repr__()\n",
    "\n",
    "# test\n",
    "sudoku = Sudoku.create(3)\n",
    "sudoku.init_solution()\n",
    "sudoku, sudoku.value()"
   ]
  },
  {
   "cell_type": "code",
   "execution_count": null,
   "metadata": {},
   "outputs": [],
   "source": [
    "def simulated_annealing(initial:Sudoku, schedule, halt, log_interval=200):\n",
    "    state = initial.init_solution()\n",
    "    t = 0           # time step\n",
    "    T = schedule(t) # temperature\n",
    "    f = [state.value()] # a recording of values\n",
    "    while not halt(T):\n",
    "        T = schedule(t)\n",
    "        new_state = state.local_search()\n",
    "        new_value = new_state.value()\n",
    "        # TODO: implement the replacement here\n",
    "        \n",
    "        \n",
    "\n",
    "        # update time and temperature\n",
    "        if t % log_interval == 0:\n",
    "            print(f\"step {t}: T={T}, current_value={state.value()}\")\n",
    "        if new_value == 0:\n",
    "            break\n",
    "        t += 1\n",
    "        T = schedule(t)\n",
    "    print(f\"step {t}: T={T}, current_value={state.value()}\")\n",
    "    return state, f"
   ]
  },
  {
   "cell_type": "code",
   "execution_count": null,
   "metadata": {},
   "outputs": [],
   "source": [
    "import matplotlib.pyplot as plt\n",
    "\n",
    "# define your own schedule and halt condition\n",
    "# run the algorithm on different n with different settings\n",
    "n = 3\n",
    "solution, record = simulated_annealing(\n",
    "    initial=Sudoku.create(n), \n",
    "    schedule=lambda t: 0.999**t, \n",
    "    halt=lambda T: T<1e-7\n",
    ")\n",
    "solution, solution.value()"
   ]
  },
  {
   "cell_type": "code",
   "execution_count": null,
   "metadata": {},
   "outputs": [],
   "source": [
    "# visualize the curve\n",
    "plt.plot(record)\n",
    "plt.xlabel(\"time step\")\n",
    "plt.ylabel(\"value\")"
   ]
  }
 ],
 "metadata": {
  "interpreter": {
   "hash": "dc1b36ca92b83d5ef109eaced03555f57acee2abd9fee9dc0fa9bba105170b52"
  },
  "kernelspec": {
   "display_name": "Python 3 (ipykernel)",
   "language": "python",
   "name": "python3"
  },
  "language_info": {
   "codemirror_mode": {
    "name": "ipython",
    "version": 3
   },
   "file_extension": ".py",
   "mimetype": "text/x-python",
   "name": "python",
   "nbconvert_exporter": "python",
   "pygments_lexer": "ipython3",
   "version": "3.10.13"
  }
 },
 "nbformat": 4,
 "nbformat_minor": 2
}
