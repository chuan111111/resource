{
 "cells": [
  {
   "cell_type": "code",
   "execution_count": 1,
   "metadata": {
    "ExecuteTime": {
     "end_time": "2023-10-17T14:46:13.154652200Z",
     "start_time": "2023-10-17T14:46:13.002655600Z"
    }
   },
   "outputs": [],
   "source": [
    "import copy\n",
    "import math\n",
    "\n",
    "import numpy as np\n",
    "import time"
   ]
  },
  {
   "cell_type": "markdown",
   "metadata": {},
   "source": [
    "# Simulated Annealing（1 point）\n",
    "\n",
    "Solve the Sudoku problem with Simulated Annealing. You can design your own algorithm or simply refer to [Metaheuristics_can_solve_Sudoku_puzzles](https://www.researchgate.net/publication/220403361_Metaheuristics_can_solve_Sudoku_puzzles). \n",
    "\n",
    "\n",
    "### DDL: 22:00, Oct.20\n",
    "The practice will be checked in this lab class or the next lab class(before **Oct.20**) by teachers or SAs. \n",
    "#### What will be tested: \n",
    "* That you understand every line of your code, not just copy from somewhere \n",
    "* That your program compiles correctly\n",
    "* Correctness of the program logic \n",
    "* That the result is obtained in a reasonable time \n",
    "\n",
    "#### Grading: \n",
    "* Submissions in this lab class: 1.1 points.\n",
    "* Submissions on time: 1 point.\n",
    "* Late submissions within 2 weeks after the deadline (Oct.20) : 0.8 points.\n",
    "\n",
    "\n",
    "The code provided below starts with making a problem instance and ends by visualizing the running process of SA."
   ]
  },
  {
   "cell_type": "code",
   "execution_count": 2,
   "metadata": {
    "ExecuteTime": {
     "end_time": "2023-10-17T14:46:27.103652700Z",
     "start_time": "2023-10-17T14:46:17.448656100Z"
    }
   },
   "outputs": [
    {
     "name": "stdout",
     "output_type": "stream",
     "text": [
      "3.59 ms ± 67.8 µs per loop (mean ± std. dev. of 7 runs, 100 loops each)\n",
      "47 µs ± 226 ns per loop (mean ± std. dev. of 7 runs, 10,000 loops each)\n"
     ]
    },
    {
     "data": {
      "text/plain": [
       "array([[1, 2, 3, 4, 5, 6, 7, 8, 9],\n",
       "       [4, 5, 6, 7, 8, 9, 1, 2, 3],\n",
       "       [7, 8, 9, 1, 2, 3, 4, 5, 6],\n",
       "       [2, 3, 4, 5, 6, 7, 8, 9, 1],\n",
       "       [5, 6, 7, 8, 9, 1, 2, 3, 4],\n",
       "       [8, 9, 1, 2, 3, 4, 5, 6, 7],\n",
       "       [3, 4, 5, 6, 7, 8, 9, 1, 2],\n",
       "       [6, 7, 8, 9, 1, 2, 3, 4, 5],\n",
       "       [9, 1, 2, 3, 4, 5, 6, 7, 8]])"
      ]
     },
     "execution_count": 2,
     "metadata": {},
     "output_type": "execute_result"
    }
   ],
   "source": [
    "# making a problem instance\n",
    "def make_grid_python(n):\n",
    "    grid = np.empty((n**2, n**2), int)\n",
    "    x = 0\n",
    "    for i in range(n):\n",
    "        for j in range(n):\n",
    "            for k in range(n**2):\n",
    "                grid[n*i+j, k] = x%(n**2) + 1\n",
    "                x += 1\n",
    "            x += n\n",
    "        x += 1\n",
    "    return grid\n",
    "\n",
    "def make_grid_numpy(n):\n",
    "    return np.fromfunction(lambda i, j: (i*n+i//n+j)%(n**2)+1, (n**2, n**2), dtype=int)\n",
    "\n",
    "# a comparison between native python and numpy\n",
    "# vary n to see their performances\n",
    "n = 10\n",
    "%timeit make_grid_python(n)\n",
    "%timeit make_grid_numpy(n)\n",
    "\n",
    "# test\n",
    "grid = make_grid_numpy(3)\n",
    "grid"
   ]
  },
  {
   "cell_type": "code",
   "execution_count": 3,
   "metadata": {
    "ExecuteTime": {
     "end_time": "2023-10-17T14:46:33.492624700Z",
     "start_time": "2023-10-17T14:46:33.448611400Z"
    }
   },
   "outputs": [
    {
     "data": {
      "text/plain": [
       "(array([[9, 2, 3, 4, 3, 6, 8, 6, 9],\n",
       "        [4, 5, 1, 7, 8, 9, 1, 2, 3],\n",
       "        [7, 6, 8, 5, 2, 1, 4, 5, 7],\n",
       "        [2, 3, 4, 3, 6, 7, 4, 9, 1],\n",
       "        [5, 6, 7, 9, 1, 5, 5, 3, 8],\n",
       "        [8, 9, 1, 8, 2, 4, 7, 2, 6],\n",
       "        [3, 4, 5, 1, 9, 8, 4, 1, 2],\n",
       "        [6, 7, 8, 7, 2, 4, 3, 6, 5],\n",
       "        [9, 1, 2, 3, 6, 5, 9, 7, 8]], dtype=int64),\n",
       " -33)"
      ]
     },
     "execution_count": 3,
     "metadata": {},
     "output_type": "execute_result"
    }
   ],
   "source": [
    "class Sudoku:\n",
    "    @classmethod\n",
    "    def create(cls, n, seed=303):\n",
    "        rng = np.random.default_rng(seed)\n",
    "        init_grid = make_grid_numpy(n)\n",
    "\n",
    "        # randomly mask out some cells to create a problem instance\n",
    "        # cells marked by *1* is given and fixed\n",
    "        mask = rng.integers(0, 2, size=init_grid.shape)\n",
    "        grid = init_grid*mask\n",
    "        return cls(n, mask, grid, seed)\n",
    "\n",
    "    def __init__(self, n, mask, grid, seed) -> None:\n",
    "        self.seed = seed\n",
    "        self.mask = mask\n",
    "        self.grid = grid\n",
    "        self.n = n\n",
    "        self.all = set(range(1, n**2+1))\n",
    "\n",
    "    def value(self):\n",
    "        # TODO: evaluate the current state, return a scalar value. (cost function)\n",
    "        score = 0\n",
    "        for i in range(1, 10):\n",
    "            score -= np.sum(np.all(self.grid != i, axis=1))\n",
    "            score -= np.sum(np.all(self.grid != i, axis=0))\n",
    "        return score\n",
    "        raise NotImplementedError()\n",
    "\n",
    "    def local_search(self):\n",
    "        # TODO: apply your neighborhood search operator to get the next state\n",
    "        while True:\n",
    "            i = np.random.randint(0, self.mask.shape[0])  # 随机生成 i 坐标\n",
    "            j = np.random.randint(0, self.mask.shape[1])  # 随机生成 j 坐标\n",
    "            if self.mask[i][j] == 0:\n",
    "                break\n",
    "        while True:\n",
    "            l = np.random.randint(i - i % 3, i - i % 3 + 3)\n",
    "            k = np.random.randint(j - j % 3, j - j % 3 + 3)\n",
    "            if self.mask[l][k] == 0:\n",
    "                if i != l or j != k:\n",
    "                    break\n",
    "        next_state = copy.deepcopy(self)\n",
    "        next_state.grid[i][j], next_state.grid[l][k] = next_state.grid[l][k], next_state.grid[i][j]\n",
    "        # print(next_state.grid == self.grid)\n",
    "        print(i, j, l, k)\n",
    "        return next_state\n",
    "\n",
    "\n",
    "    def init_solution(self):\n",
    "        rng = np.random.default_rng(self.seed)\n",
    "        n = self.n\n",
    "        grid = self.grid.reshape(n, n, n, n).transpose(0, 2, 1, 3)\n",
    "        for I in np.ndindex(n, n):\n",
    "            idx = grid[I]==0\n",
    "            grid[I][idx] = rng.permutation(list(self.all-set(grid[I].flat)))\n",
    "        return self\n",
    "\n",
    "    def __repr__(self) -> str:\n",
    "        return self.grid.__repr__()\n",
    "\n",
    "# test\n",
    "sudoku = Sudoku.create(3)\n",
    "sudoku.init_solution()\n",
    "sudoku, sudoku.value()"
   ]
  },
  {
   "cell_type": "code",
   "execution_count": 4,
   "metadata": {
    "ExecuteTime": {
     "end_time": "2023-10-17T14:46:35.427580900Z",
     "start_time": "2023-10-17T14:46:35.405586600Z"
    }
   },
   "outputs": [],
   "source": [
    "def simulated_annealing(initial:Sudoku, schedule, halt, log_interval=200):\n",
    "    state = initial.init_solution()\n",
    "    t = 0           # time step\n",
    "    T = schedule(t) # temperature\n",
    "    f = [state.value()] # a recording of values\n",
    "    rng = np.random.default_rng(state.seed)\n",
    "    while not halt(T):\n",
    "        T = schedule(t)\n",
    "        new_state = state.local_search()\n",
    "        new_value = new_state.value()\n",
    "        origin_value = state.value()\n",
    "        # TODO: implement the replacement here\n",
    "        if origin_value < new_value:\n",
    "            state = new_state\n",
    "        else:\n",
    "            ra = rng.random()\n",
    "            # print(math.exp(-(origin_value - new_value) / T))\n",
    "            if ra <= math.exp(-(origin_value - new_value) / T):\n",
    "                state = new_state\n",
    "        \n",
    "\n",
    "        # update time and temperature\n",
    "        if t % log_interval == 0:\n",
    "            print(f\"step {t}: T={T}, current_value={state.value()}\")\n",
    "        if new_value == 0:\n",
    "            break\n",
    "        t += 1\n",
    "        T = schedule(t)\n",
    "    print(f\"step {t}: T={T}, current_value={state.value()}\")\n",
    "    return state, f"
   ]
  },
  {
   "cell_type": "code",
   "execution_count": null,
   "metadata": {
    "ExecuteTime": {
     "start_time": "2023-10-17T14:46:37.181274300Z"
    },
    "is_executing": true
   },
   "outputs": [
    {
     "name": "stdout",
     "output_type": "stream",
     "text": [
      "8 6 7 7\n",
      "step 0: T=1.0, current_value=-32\n",
      "3 7 3 8\n",
      "0 1 2 2\n",
      "3 3 5 3\n",
      "7 3 7 5\n",
      "1 4 0 4\n",
      "7 4 7 3\n",
      "7 5 7 4\n",
      "0 3 2 3\n",
      "6 4 7 3\n",
      "8 6 7 7\n",
      "5 8 5 7\n",
      "2 3 0 3\n",
      "5 2 5 0\n",
      "7 3 7 5\n",
      "2 3 0 3\n",
      "0 1 1 2\n",
      "4 6 4 8\n",
      "0 3 2 5\n",
      "0 6 1 8\n",
      "0 7 1 7\n",
      "3 6 5 6\n",
      "7 5 7 3\n",
      "6 4 7 5\n",
      "4 8 3 6\n",
      "4 8 3 6\n",
      "0 6 2 8\n",
      "1 2 0 1\n",
      "5 3 4 3\n",
      "7 4 6 4\n",
      "2 8 1 8\n",
      "0 0 0 1\n",
      "4 4 4 3\n",
      "2 3 1 4\n",
      "0 4 1 4\n",
      "3 7 5 8\n",
      "5 6 5 7\n",
      "1 4 2 3\n"
     ]
    }
   ],
   "source": [
    "import matplotlib.pyplot as plt\n",
    "\n",
    "# define your own schedule and halt condition\n",
    "# run the algorithm on different n with different settings\n",
    "n = 3\n",
    "solution, record = simulated_annealing(\n",
    "    initial=Sudoku.create(n), \n",
    "    schedule=lambda t: 0.999**t, \n",
    "    halt=lambda T: T<1e-7\n",
    ")\n",
    "solution, solution.value()"
   ]
  },
  {
   "cell_type": "code",
   "execution_count": null,
   "metadata": {},
   "outputs": [],
   "source": [
    "# visualize the curve\n",
    "plt.plot(record)\n",
    "plt.xlabel(\"time step\")\n",
    "plt.ylabel(\"value\")"
   ]
  },
  {
   "cell_type": "code",
   "execution_count": null,
   "metadata": {},
   "outputs": [],
   "source": []
  },
  {
   "cell_type": "code",
   "execution_count": null,
   "metadata": {},
   "outputs": [],
   "source": []
  },
  {
   "cell_type": "code",
   "execution_count": null,
   "metadata": {},
   "outputs": [],
   "source": []
  }
 ],
 "metadata": {
  "interpreter": {
   "hash": "dc1b36ca92b83d5ef109eaced03555f57acee2abd9fee9dc0fa9bba105170b52"
  },
  "kernelspec": {
   "display_name": "Python 3 (ipykernel)",
   "language": "python",
   "name": "python3"
  },
  "language_info": {
   "codemirror_mode": {
    "name": "ipython",
    "version": 3
   },
   "file_extension": ".py",
   "mimetype": "text/x-python",
   "name": "python",
   "nbconvert_exporter": "python",
   "pygments_lexer": "ipython3",
   "version": "3.10.13"
  }
 },
 "nbformat": 4,
 "nbformat_minor": 2
}
