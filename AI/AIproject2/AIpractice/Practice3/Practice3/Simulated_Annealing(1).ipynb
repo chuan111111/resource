{
 "cells": [
  {
   "cell_type": "code",
   "execution_count": 43,
   "metadata": {
    "ExecuteTime": {
     "end_time": "2023-10-17T16:56:44.799863500Z",
     "start_time": "2023-10-17T16:56:44.780860500Z"
    }
   },
   "outputs": [],
   "source": [
    "import copy\n",
    "import math\n",
    "\n",
    "import numpy as np\n",
    "import time"
   ]
  },
  {
   "cell_type": "markdown",
   "metadata": {},
   "source": [
    "# Simulated Annealing（1 point）\n",
    "\n",
    "Solve the Sudoku problem with Simulated Annealing. You can design your own algorithm or simply refer to [Metaheuristics_can_solve_Sudoku_puzzles](https://www.researchgate.net/publication/220403361_Metaheuristics_can_solve_Sudoku_puzzles). \n",
    "\n",
    "\n",
    "### DDL: 22:00, Oct.20\n",
    "The practice will be checked in this lab class or the next lab class(before **Oct.20**) by teachers or SAs. \n",
    "#### What will be tested: \n",
    "* That you understand every line of your code, not just copy from somewhere \n",
    "* That your program compiles correctly\n",
    "* Correctness of the program logic \n",
    "* That the result is obtained in a reasonable time \n",
    "\n",
    "#### Grading: \n",
    "* Submissions in this lab class: 1.1 points.\n",
    "* Submissions on time: 1 point.\n",
    "* Late submissions within 2 weeks after the deadline (Oct.20) : 0.8 points.\n",
    "\n",
    "\n",
    "The code provided below starts with making a problem instance and ends by visualizing the running process of SA."
   ]
  },
  {
   "cell_type": "code",
   "execution_count": 44,
   "metadata": {
    "ExecuteTime": {
     "end_time": "2023-10-17T16:56:55.484884200Z",
     "start_time": "2023-10-17T16:56:45.748882800Z"
    }
   },
   "outputs": [
    {
     "name": "stdout",
     "output_type": "stream",
     "text": [
      "4.21 ms ± 48.4 µs per loop (mean ± std. dev. of 7 runs, 100 loops each)\n",
      "77.9 µs ± 861 ns per loop (mean ± std. dev. of 7 runs, 10,000 loops each)\n"
     ]
    },
    {
     "data": {
      "text/plain": "array([[1, 2, 3, 4, 5, 6, 7, 8, 9],\n       [4, 5, 6, 7, 8, 9, 1, 2, 3],\n       [7, 8, 9, 1, 2, 3, 4, 5, 6],\n       [2, 3, 4, 5, 6, 7, 8, 9, 1],\n       [5, 6, 7, 8, 9, 1, 2, 3, 4],\n       [8, 9, 1, 2, 3, 4, 5, 6, 7],\n       [3, 4, 5, 6, 7, 8, 9, 1, 2],\n       [6, 7, 8, 9, 1, 2, 3, 4, 5],\n       [9, 1, 2, 3, 4, 5, 6, 7, 8]])"
     },
     "execution_count": 44,
     "metadata": {},
     "output_type": "execute_result"
    }
   ],
   "source": [
    "# making a problem instance\n",
    "def make_grid_python(n):\n",
    "    grid = np.empty((n**2, n**2), int)\n",
    "    x = 0\n",
    "    for i in range(n):\n",
    "        for j in range(n):\n",
    "            for k in range(n**2):\n",
    "                grid[n*i+j, k] = x%(n**2) + 1\n",
    "                x += 1\n",
    "            x += n\n",
    "        x += 1\n",
    "    return grid\n",
    "\n",
    "def make_grid_numpy(n):\n",
    "    return np.fromfunction(lambda i, j: (i*n+i//n+j)%(n**2)+1, (n**2, n**2), dtype=int)\n",
    "\n",
    "# a comparison between native python and numpy\n",
    "# vary n to see their performances\n",
    "n = 10\n",
    "%timeit make_grid_python(n)\n",
    "%timeit make_grid_numpy(n)\n",
    "\n",
    "# test\n",
    "grid = make_grid_numpy(3)\n",
    "grid"
   ]
  },
  {
   "cell_type": "code",
   "execution_count": 45,
   "metadata": {
    "ExecuteTime": {
     "end_time": "2023-10-17T16:56:55.518886Z",
     "start_time": "2023-10-17T16:56:55.500886100Z"
    }
   },
   "outputs": [
    {
     "data": {
      "text/plain": "(array([[9, 2, 3, 4, 3, 6, 8, 6, 9],\n        [4, 5, 1, 7, 8, 9, 1, 2, 3],\n        [7, 6, 8, 5, 2, 1, 4, 5, 7],\n        [2, 3, 4, 3, 6, 7, 4, 9, 1],\n        [5, 6, 7, 9, 1, 5, 5, 3, 8],\n        [8, 9, 1, 8, 2, 4, 7, 2, 6],\n        [3, 4, 5, 1, 9, 8, 4, 1, 2],\n        [6, 7, 8, 7, 2, 4, 3, 6, 5],\n        [9, 1, 2, 3, 6, 5, 9, 7, 8]], dtype=int64),\n -33)"
     },
     "execution_count": 45,
     "metadata": {},
     "output_type": "execute_result"
    }
   ],
   "source": [
    "import random\n",
    "\n",
    "\n",
    "class Sudoku:\n",
    "    @classmethod\n",
    "    def create(cls, n, seed=303):\n",
    "        rng = np.random.default_rng(seed)\n",
    "        init_grid = make_grid_numpy(n)\n",
    "\n",
    "        # randomly mask out some cells to create a problem instance\n",
    "        # cells marked by *1* is given and fixed\n",
    "        mask = rng.integers(0, 2, size=init_grid.shape)\n",
    "        grid = init_grid*mask\n",
    "        return cls(n, mask, grid, seed)\n",
    "\n",
    "    def __init__(self, n, mask, grid, seed) -> None:\n",
    "        self.seed = seed\n",
    "        self.mask = mask\n",
    "        self.grid = grid\n",
    "        self.n = n\n",
    "        self.all = set(range(1, n**2+1))\n",
    "\n",
    "    def value(self):\n",
    "        # TODO: evaluate the current state, return a scalar value. (cost function)\n",
    "        score = 0\n",
    "        for i in range(1, 10):\n",
    "            score -= np.sum(np.all(self.grid != i, axis=1))\n",
    "            score -= np.sum(np.all(self.grid != i, axis=0))\n",
    "        return score\n",
    "\n",
    "    def local_search(self):\n",
    "        # TODO: apply your neighborhood search operator to get the next state\n",
    "        zero_indices = np.argwhere(self.mask == 0)\n",
    "        random_index = np.random.choice(len(zero_indices))\n",
    "\n",
    "        # 获取随机选择的索引的i和j值\n",
    "        selected_index = zero_indices[random_index]\n",
    "        i, j = selected_index[0], selected_index[1]\n",
    "\n",
    "        a = (int(i / 3) * 3)\n",
    "        c = (int(j / 3) * 3)\n",
    "        condition = (self.mask[a : a + 3, c : c + 3] == 0)\n",
    "        zero_indices_1 = np.argwhere(condition)\n",
    "        random_index_1 = np.random.choice(len(zero_indices_1))\n",
    "        selected_index_1 = zero_indices_1[random_index_1]\n",
    "\n",
    "        l, k = selected_index_1[0] + a, selected_index_1[1] + c\n",
    "\n",
    "        next_state = copy.deepcopy(self)\n",
    "        next_state.grid[i][j], next_state.grid[l][k] = next_state.grid[l][k], next_state.grid[i][j]\n",
    "        # print(next_state.grid == self.grid)\n",
    "        return next_state\n",
    "\n",
    "\n",
    "    def init_solution(self):\n",
    "        rng = np.random.default_rng(self.seed)\n",
    "        n = self.n\n",
    "        grid = self.grid.reshape(n, n, n, n).transpose(0, 2, 1, 3)\n",
    "        for I in np.ndindex(n, n):\n",
    "            idx = grid[I]==0\n",
    "            grid[I][idx] = rng.permutation(list(self.all-set(grid[I].flat)))\n",
    "        return self\n",
    "\n",
    "    def __repr__(self) -> str:\n",
    "        return self.grid.__repr__()\n",
    "\n",
    "# test\n",
    "sudoku = Sudoku.create(3)\n",
    "sudoku.init_solution()\n",
    "sudoku, sudoku.value()"
   ]
  },
  {
   "cell_type": "code",
   "execution_count": 46,
   "metadata": {
    "ExecuteTime": {
     "end_time": "2023-10-17T16:56:55.533883300Z",
     "start_time": "2023-10-17T16:56:55.516884800Z"
    }
   },
   "outputs": [],
   "source": [
    "def simulated_annealing(initial:Sudoku, schedule, halt, log_interval=200):\n",
    "    state = initial.init_solution()\n",
    "    t = 0           # time step\n",
    "    T = schedule(t) # temperature\n",
    "    f = [state.value()] # a recording of values\n",
    "    rng = np.random.default_rng(state.seed)\n",
    "    while not halt(T):\n",
    "\n",
    "        T = schedule(t)\n",
    "\n",
    "        new_state = state.local_search()\n",
    "        new_value = new_state.value()\n",
    "        origin_value = state.value()\n",
    "        # TODO: implement the replacement here\n",
    "\n",
    "        if origin_value < new_value:\n",
    "            state = new_state\n",
    "            f.append(state.value())\n",
    "        else:\n",
    "            ra = rng.random()\n",
    "            # print(math.exp(-(origin_value - new_value) / T))\n",
    "            if ra <= math.exp(-(origin_value - new_value) / T):\n",
    "                state = new_state\n",
    "                f.append(state.value())\n",
    "\n",
    "\n",
    "        # update time and temperature\n",
    "        if t % log_interval == 0:\n",
    "\n",
    "            print(f\"step {t}: T={T}, current_value={state.value()}\")\n",
    "        if new_value == 0:\n",
    "\n",
    "            break\n",
    "\n",
    "        t += 1\n",
    "        T = schedule(t)\n",
    "\n",
    "    print(f\"step {t}: T={T}, current_value={state.value()}\")\n",
    "    return state, f"
   ]
  },
  {
   "cell_type": "code",
   "execution_count": 47,
   "metadata": {
    "ExecuteTime": {
     "end_time": "2023-10-17T16:57:14.406725900Z",
     "start_time": "2023-10-17T16:57:13.764542500Z"
    }
   },
   "outputs": [
    {
     "name": "stdout",
     "output_type": "stream",
     "text": [
      "step 0: T=1.0, current_value=-33\n",
      "step 200: T=0.8186488294786356, current_value=-11\n",
      "step 400: T=0.6701859060067401, current_value=-14\n",
      "step 600: T=0.5486469074854967, current_value=-9\n",
      "step 800: T=0.4491491486100751, current_value=-9\n",
      "step 1000: T=0.36769542477096373, current_value=-2\n",
      "step 1041: T=0.35291753993304886, current_value=0\n"
     ]
    },
    {
     "data": {
      "text/plain": "(array([[1, 2, 3, 4, 5, 6, 7, 8, 9],\n        [4, 5, 6, 7, 8, 9, 1, 2, 3],\n        [7, 8, 9, 1, 2, 3, 4, 5, 6],\n        [2, 3, 4, 5, 6, 7, 8, 9, 1],\n        [5, 6, 7, 8, 9, 1, 2, 3, 4],\n        [8, 9, 1, 2, 3, 4, 5, 6, 7],\n        [3, 4, 5, 6, 7, 8, 9, 1, 2],\n        [6, 7, 8, 9, 1, 2, 3, 4, 5],\n        [9, 1, 2, 3, 4, 5, 6, 7, 8]], dtype=int64),\n 0)"
     },
     "execution_count": 47,
     "metadata": {},
     "output_type": "execute_result"
    }
   ],
   "source": [
    "import matplotlib.pyplot as plt\n",
    "\n",
    "# define your own schedule and halt condition\n",
    "# run the algorithm on different n with different settings\n",
    "n = 3\n",
    "solution, record = simulated_annealing(\n",
    "    initial=Sudoku.create(n), \n",
    "    schedule=lambda t: 0.999**t, \n",
    "    halt=lambda T: T<1e-7\n",
    ")\n",
    "solution, solution.value()"
   ]
  },
  {
   "cell_type": "code",
   "execution_count": 48,
   "metadata": {
    "ExecuteTime": {
     "end_time": "2023-10-17T16:57:20.193043700Z",
     "start_time": "2023-10-17T16:57:20.017154900Z"
    }
   },
   "outputs": [
    {
     "data": {
      "text/plain": "Text(0, 0.5, 'value')"
     },
     "execution_count": 48,
     "metadata": {},
     "output_type": "execute_result"
    },
    {
     "data": {
      "text/plain": "<Figure size 640x480 with 1 Axes>",
      "image/png": "[encoded data removed]"
     },
     "metadata": {},
     "output_type": "display_data"
    }
   ],
   "source": [
    "# visualize the curve\n",
    "plt.plot(record)\n",
    "plt.xlabel(\"time step\")\n",
    "plt.ylabel(\"value\")"
   ]
  },
  {
   "cell_type": "code",
   "execution_count": null,
   "outputs": [],
   "source": [],
   "metadata": {
    "collapsed": false
   }
  }
 ],
 "metadata": {
  "interpreter": {
   "hash": "dc1b36ca92b83d5ef109eaced03555f57acee2abd9fee9dc0fa9bba105170b52"
  },
  "kernelspec": {
   "display_name": "Python 3",
   "language": "python",
   "name": "python3"
  },
  "language_info": {
   "codemirror_mode": {
    "name": "ipython",
    "version": 3
   },
   "file_extension": ".py",
   "mimetype": "text/x-python",
   "name": "python",
   "nbconvert_exporter": "python",
   "pygments_lexer": "ipython3",
   "version": "3.8.8"
  }
 },
 "nbformat": 4,
 "nbformat_minor": 2
}
